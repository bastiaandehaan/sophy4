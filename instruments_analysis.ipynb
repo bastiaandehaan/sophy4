{
 "cells": [
  {
   "cell_type": "code",
   "id": "initial_id",
   "metadata": {
    "collapsed": true,
    "ExecuteTime": {
     "end_time": "2025-04-12T07:58:19.302656Z",
     "start_time": "2025-04-12T07:58:19.297324Z"
    }
   },
   "source": [
    "# Import necessary libraries\n",
    "import pandas as pd\n",
    "import numpy as np\n",
    "import matplotlib.pyplot as plt\n",
    "from datetime import datetime, timedelta\n",
    "import json\n",
    "import sys\n",
    "import os\n",
    "\n",
    "# Add project directory to path if needed\n",
    "# sys.path.append('../')\n",
    "\n",
    "# Import your project modules (adjust paths as needed)\n",
    "try:\n",
    "    from utils.data_utils import fetch_historical_data, fetch_live_data, TIMEFRAME_MAP\n",
    "except ImportError as e1:\n",
    "    try:\n",
    "        from data_utils import fetch_historical_data, fetch_live_data, TIMEFRAME_MAP\n",
    "    except ImportError as e2:\n",
    "        print(f\"Could not import data_utils from either 'utils.data_utils' or 'data_utils'. \"\n",
    "              f\"Please check the module paths. First error: {e1}. Second error: {e2}.\")"
   ],
   "outputs": [],
   "execution_count": 8
  },
  {
   "metadata": {
    "ExecuteTime": {
     "end_time": "2025-04-12T07:58:03.743438Z",
     "start_time": "2025-04-12T07:58:03.727277Z"
    }
   },
   "cell_type": "code",
   "source": [
    "# Visual demonstration of data retrieval and algorithm execution\n",
    "# This cell creates visualizations to verify data is being correctly processed\n",
    "\n",
    "# Choose an instrument for demonstration\n",
    "demo_instrument = \"EURUSD\"  # Replace with your actual instrument\n",
    "\n",
    "# Fetch historical data for demonstration\n",
    "try:\n",
    "    # Define date range\n",
    "    end_date = datetime.now()\n",
    "    start_date = end_date - timedelta(days=90)  # last 90 days\n",
    "\n",
    "    # Convert to string format\n",
    "    start_date_str = start_date.strftime('%Y-%m-%d')\n",
    "    end_date_str = end_date.strftime('%Y-%m-%d')\n",
    "\n",
    "    print(f\"Fetching data for {demo_instrument} from {start_date_str} to {end_date_str}\")\n",
    "\n",
    "    # Fetch data - adjust parameters as needed\n",
    "    historical_data = fetch_historical_data(\n",
    "        instrument=demo_instrument,\n",
    "        timeframe='1d',\n",
    "        start_date=start_date_str,\n",
    "        end_date=end_date_str\n",
    "    )\n",
    "\n",
    "    # Check if data was successfully retrieved\n",
    "    if isinstance(historical_data, pd.DataFrame) and not historical_data.empty:\n",
    "        print(f\"Successfully retrieved {len(historical_data)} data points\")\n",
    "\n",
    "        # Display first few rows of the data\n",
    "        print(\"\\nFirst 5 rows of data:\")\n",
    "        display(historical_data.head())\n",
    "\n",
    "        # Set up visualization style\n",
    "        plt.style.use('seaborn-v0_8-darkgrid')\n",
    "        plt.figure(figsize=(14, 10))\n",
    "\n",
    "        # Create multiple subplots for different visualizations\n",
    "        fig, axes = plt.subplots(3, 1, figsize=(14, 12), sharex=True)\n",
    "\n",
    "        # 1. Price Chart (Close prices)\n",
    "        axes[0].plot(historical_data.index, historical_data['close'], label='Close Price', color='blue')\n",
    "        axes[0].set_title(f'{demo_instrument} Price History', fontsize=16)\n",
    "        axes[0].set_ylabel('Price', fontsize=12)\n",
    "        axes[0].legend()\n",
    "        axes[0].grid(True)\n",
    "\n",
    "        # 2. Calculate and plot a 20-day moving average to demonstrate algorithm execution\n",
    "        if len(historical_data) >= 20:\n",
    "            historical_data['MA20'] = historical_data['close'].rolling(window=20).mean()\n",
    "            axes[0].plot(historical_data.index, historical_data['MA20'], label='20-Day MA', color='red')\n",
    "            axes[0].legend()\n",
    "\n",
    "        # 3. Volume chart (if available)\n",
    "        if 'volume' in historical_data.columns:\n",
    "            axes[1].bar(historical_data.index, historical_data['volume'], color='green', alpha=0.7)\n",
    "            axes[1].set_title(f'{demo_instrument} Trading Volume', fontsize=16)\n",
    "            axes[1].set_ylabel('Volume', fontsize=12)\n",
    "            axes[1].grid(True)\n",
    "\n",
    "        # 4. Calculate and visualize daily returns to demonstrate algorithm processing\n",
    "        if 'close' in historical_data.columns:\n",
    "            historical_data['daily_return'] = historical_data['close'].pct_change() * 100\n",
    "            axes[2].plot(historical_data.index, historical_data['daily_return'], color='purple')\n",
    "            axes[2].axhline(y=0, color='black', linestyle='--')\n",
    "            axes[2].set_title(f'{demo_instrument} Daily Returns (%)', fontsize=16)\n",
    "            axes[2].set_ylabel('Return (%)', fontsize=12)\n",
    "            axes[2].set_xlabel('Date', fontsize=12)\n",
    "            axes[2].grid(True)\n",
    "\n",
    "        # Adjust layout\n",
    "        plt.tight_layout()\n",
    "        plt.show()\n",
    "\n",
    "        # Additional visualization: distribution of returns\n",
    "        if 'daily_return' in historical_data.columns:\n",
    "            plt.figure(figsize=(10, 6))\n",
    "            plt.hist(historical_data['daily_return'].dropna(), bins=50, color='skyblue', edgecolor='black', alpha=0.7)\n",
    "            plt.title(f'Distribution of Daily Returns for {demo_instrument}', fontsize=16)\n",
    "            plt.xlabel('Daily Return (%)', fontsize=12)\n",
    "            plt.ylabel('Frequency', fontsize=12)\n",
    "            plt.grid(True, linestyle='--', alpha=0.6)\n",
    "            plt.show()\n",
    "\n",
    "except Exception as e:\n",
    "    print(f\"An error occurred while fetching or processing data: {e}\")"
   ],
   "id": "d339a27d25761155",
   "outputs": [
    {
     "name": "stdout",
     "output_type": "stream",
     "text": [
      "Fetching data for EURUSD from 2025-01-12 to 2025-04-12\n",
      "An error occurred while fetching or processing data: fetch_historical_data() got an unexpected keyword argument 'instrument'\n"
     ]
    }
   ],
   "execution_count": 6
  }
 ],
 "metadata": {
  "kernelspec": {
   "display_name": "Python 3",
   "language": "python",
   "name": "python3"
  },
  "language_info": {
   "codemirror_mode": {
    "name": "ipython",
    "version": 2
   },
   "file_extension": ".py",
   "mimetype": "text/x-python",
   "name": "python",
   "nbconvert_exporter": "python",
   "pygments_lexer": "ipython2",
   "version": "2.7.6"
  }
 },
 "nbformat": 4,
 "nbformat_minor": 5
}
